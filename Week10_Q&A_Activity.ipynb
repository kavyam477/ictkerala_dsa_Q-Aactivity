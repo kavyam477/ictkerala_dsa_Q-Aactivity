{
 "cells": [
  {
   "cell_type": "markdown",
   "id": "27ebd5d6",
   "metadata": {},
   "source": [
    "# Week 10 Q&A Activity "
   ]
  },
  {
   "cell_type": "code",
   "execution_count": 87,
   "id": "237d7ee6",
   "metadata": {},
   "outputs": [],
   "source": [
    "import pandas as pd\n",
    "import seaborn as sns\n",
    "import matplotlib.pyplot as plt"
   ]
  },
  {
   "cell_type": "markdown",
   "id": "ccdfbd91",
   "metadata": {},
   "source": [
    "### 1. Read the data into python"
   ]
  },
  {
   "cell_type": "code",
   "execution_count": 88,
   "id": "c118c928",
   "metadata": {},
   "outputs": [],
   "source": [
    "data=pd.read_csv(r\"C:\\Users\\USER\\Downloads\\week10.csv\")"
   ]
  },
  {
   "cell_type": "code",
   "execution_count": 89,
   "id": "7e2c8665",
   "metadata": {},
   "outputs": [
    {
     "data": {
      "text/html": [
       "<div>\n",
       "<style scoped>\n",
       "    .dataframe tbody tr th:only-of-type {\n",
       "        vertical-align: middle;\n",
       "    }\n",
       "\n",
       "    .dataframe tbody tr th {\n",
       "        vertical-align: top;\n",
       "    }\n",
       "\n",
       "    .dataframe thead th {\n",
       "        text-align: right;\n",
       "    }\n",
       "</style>\n",
       "<table border=\"1\" class=\"dataframe\">\n",
       "  <thead>\n",
       "    <tr style=\"text-align: right;\">\n",
       "      <th></th>\n",
       "      <th>ph</th>\n",
       "      <th>Hardness</th>\n",
       "      <th>Solids</th>\n",
       "      <th>Chloramines</th>\n",
       "      <th>Sulfate</th>\n",
       "      <th>Conductivity</th>\n",
       "      <th>Organic_carbon</th>\n",
       "      <th>Trihalomethanes</th>\n",
       "      <th>Turbidity</th>\n",
       "    </tr>\n",
       "  </thead>\n",
       "  <tbody>\n",
       "    <tr>\n",
       "      <th>0</th>\n",
       "      <td>8.316766</td>\n",
       "      <td>214.373394</td>\n",
       "      <td>22018.41744</td>\n",
       "      <td>8.059332</td>\n",
       "      <td>356.886136</td>\n",
       "      <td>363.266516</td>\n",
       "      <td>18.436525</td>\n",
       "      <td>100.341674</td>\n",
       "      <td>4.628771</td>\n",
       "    </tr>\n",
       "    <tr>\n",
       "      <th>1</th>\n",
       "      <td>9.092223</td>\n",
       "      <td>181.101509</td>\n",
       "      <td>17978.98634</td>\n",
       "      <td>6.546600</td>\n",
       "      <td>310.135738</td>\n",
       "      <td>398.410813</td>\n",
       "      <td>11.558279</td>\n",
       "      <td>31.997993</td>\n",
       "      <td>4.075075</td>\n",
       "    </tr>\n",
       "    <tr>\n",
       "      <th>2</th>\n",
       "      <td>5.584087</td>\n",
       "      <td>188.313324</td>\n",
       "      <td>28748.68774</td>\n",
       "      <td>7.544869</td>\n",
       "      <td>326.678363</td>\n",
       "      <td>280.467916</td>\n",
       "      <td>8.399735</td>\n",
       "      <td>54.917862</td>\n",
       "      <td>2.559708</td>\n",
       "    </tr>\n",
       "    <tr>\n",
       "      <th>3</th>\n",
       "      <td>10.223862</td>\n",
       "      <td>248.071735</td>\n",
       "      <td>28749.71654</td>\n",
       "      <td>7.513408</td>\n",
       "      <td>393.663395</td>\n",
       "      <td>283.651634</td>\n",
       "      <td>13.789695</td>\n",
       "      <td>84.603556</td>\n",
       "      <td>2.672989</td>\n",
       "    </tr>\n",
       "    <tr>\n",
       "      <th>4</th>\n",
       "      <td>8.635849</td>\n",
       "      <td>203.361523</td>\n",
       "      <td>13672.09176</td>\n",
       "      <td>4.563009</td>\n",
       "      <td>303.309771</td>\n",
       "      <td>474.607645</td>\n",
       "      <td>12.363817</td>\n",
       "      <td>62.798309</td>\n",
       "      <td>4.401425</td>\n",
       "    </tr>\n",
       "  </tbody>\n",
       "</table>\n",
       "</div>"
      ],
      "text/plain": [
       "          ph    Hardness       Solids  Chloramines     Sulfate  Conductivity  \\\n",
       "0   8.316766  214.373394  22018.41744     8.059332  356.886136    363.266516   \n",
       "1   9.092223  181.101509  17978.98634     6.546600  310.135738    398.410813   \n",
       "2   5.584087  188.313324  28748.68774     7.544869  326.678363    280.467916   \n",
       "3  10.223862  248.071735  28749.71654     7.513408  393.663395    283.651634   \n",
       "4   8.635849  203.361523  13672.09176     4.563009  303.309771    474.607645   \n",
       "\n",
       "   Organic_carbon  Trihalomethanes  Turbidity  \n",
       "0       18.436525       100.341674   4.628771  \n",
       "1       11.558279        31.997993   4.075075  \n",
       "2        8.399735        54.917862   2.559708  \n",
       "3       13.789695        84.603556   2.672989  \n",
       "4       12.363817        62.798309   4.401425  "
      ]
     },
     "execution_count": 89,
     "metadata": {},
     "output_type": "execute_result"
    }
   ],
   "source": [
    "data.head()"
   ]
  },
  {
   "cell_type": "markdown",
   "id": "8d9b9c70",
   "metadata": {},
   "source": [
    "### 2. Check for null values"
   ]
  },
  {
   "cell_type": "code",
   "execution_count": 90,
   "id": "035cd5e3",
   "metadata": {},
   "outputs": [
    {
     "data": {
      "text/plain": [
       "ph                 0\n",
       "Hardness           0\n",
       "Solids             0\n",
       "Chloramines        0\n",
       "Sulfate            0\n",
       "Conductivity       0\n",
       "Organic_carbon     0\n",
       "Trihalomethanes    0\n",
       "Turbidity          0\n",
       "dtype: int64"
      ]
     },
     "execution_count": 90,
     "metadata": {},
     "output_type": "execute_result"
    }
   ],
   "source": [
    "data.isna().sum()"
   ]
  },
  {
   "cell_type": "markdown",
   "id": "c98196a4",
   "metadata": {},
   "source": [
    "No null values are present in the dataset"
   ]
  },
  {
   "cell_type": "markdown",
   "id": "b15138cf",
   "metadata": {},
   "source": [
    "### 3. Examine the variables ‘Hardness’, ‘Sulfate’, and ‘Organic_carbon’ and comment on your observation"
   ]
  },
  {
   "cell_type": "code",
   "execution_count": 91,
   "id": "6134f227",
   "metadata": {},
   "outputs": [],
   "source": [
    "data1=pd.DataFrame(data,columns=['Hardness','Sulfate','Organic_carbon'])"
   ]
  },
  {
   "cell_type": "code",
   "execution_count": 92,
   "id": "72c28695",
   "metadata": {},
   "outputs": [
    {
     "data": {
      "text/html": [
       "<div>\n",
       "<style scoped>\n",
       "    .dataframe tbody tr th:only-of-type {\n",
       "        vertical-align: middle;\n",
       "    }\n",
       "\n",
       "    .dataframe tbody tr th {\n",
       "        vertical-align: top;\n",
       "    }\n",
       "\n",
       "    .dataframe thead th {\n",
       "        text-align: right;\n",
       "    }\n",
       "</style>\n",
       "<table border=\"1\" class=\"dataframe\">\n",
       "  <thead>\n",
       "    <tr style=\"text-align: right;\">\n",
       "      <th></th>\n",
       "      <th>Hardness</th>\n",
       "      <th>Sulfate</th>\n",
       "      <th>Organic_carbon</th>\n",
       "    </tr>\n",
       "  </thead>\n",
       "  <tbody>\n",
       "    <tr>\n",
       "      <th>count</th>\n",
       "      <td>2011.000000</td>\n",
       "      <td>2011.000000</td>\n",
       "      <td>2011.000000</td>\n",
       "    </tr>\n",
       "    <tr>\n",
       "      <th>mean</th>\n",
       "      <td>195.968072</td>\n",
       "      <td>333.224672</td>\n",
       "      <td>14.357709</td>\n",
       "    </tr>\n",
       "    <tr>\n",
       "      <th>std</th>\n",
       "      <td>32.635085</td>\n",
       "      <td>41.205172</td>\n",
       "      <td>3.324959</td>\n",
       "    </tr>\n",
       "    <tr>\n",
       "      <th>min</th>\n",
       "      <td>73.492234</td>\n",
       "      <td>129.000000</td>\n",
       "      <td>2.200000</td>\n",
       "    </tr>\n",
       "    <tr>\n",
       "      <th>25%</th>\n",
       "      <td>176.744938</td>\n",
       "      <td>307.632511</td>\n",
       "      <td>12.124105</td>\n",
       "    </tr>\n",
       "    <tr>\n",
       "      <th>50%</th>\n",
       "      <td>197.191839</td>\n",
       "      <td>332.232177</td>\n",
       "      <td>14.322019</td>\n",
       "    </tr>\n",
       "    <tr>\n",
       "      <th>75%</th>\n",
       "      <td>216.441070</td>\n",
       "      <td>359.330555</td>\n",
       "      <td>16.683049</td>\n",
       "    </tr>\n",
       "    <tr>\n",
       "      <th>max</th>\n",
       "      <td>317.338124</td>\n",
       "      <td>481.030642</td>\n",
       "      <td>27.006707</td>\n",
       "    </tr>\n",
       "  </tbody>\n",
       "</table>\n",
       "</div>"
      ],
      "text/plain": [
       "          Hardness      Sulfate  Organic_carbon\n",
       "count  2011.000000  2011.000000     2011.000000\n",
       "mean    195.968072   333.224672       14.357709\n",
       "std      32.635085    41.205172        3.324959\n",
       "min      73.492234   129.000000        2.200000\n",
       "25%     176.744938   307.632511       12.124105\n",
       "50%     197.191839   332.232177       14.322019\n",
       "75%     216.441070   359.330555       16.683049\n",
       "max     317.338124   481.030642       27.006707"
      ]
     },
     "execution_count": 92,
     "metadata": {},
     "output_type": "execute_result"
    }
   ],
   "source": [
    "data1.describe()"
   ]
  },
  {
   "cell_type": "code",
   "execution_count": 93,
   "id": "2c4e1e0c",
   "metadata": {},
   "outputs": [
    {
     "data": {
      "image/png": "[encoded data removed]",
      "text/plain": [
       "<Figure size 864x432 with 4 Axes>"
      ]
     },
     "metadata": {
      "needs_background": "light"
     },
     "output_type": "display_data"
    }
   ],
   "source": [
    "data1.hist(figsize=(12,6))\n",
    "plt.show()"
   ]
  },
  {
   "cell_type": "markdown",
   "id": "df95f762",
   "metadata": {},
   "source": [
    "### 4. Carry out correlation analysis on the dataset and find the correlation factor between:"
   ]
  },
  {
   "cell_type": "code",
   "execution_count": 94,
   "id": "978662eb",
   "metadata": {},
   "outputs": [
    {
     "data": {
      "text/plain": [
       "<AxesSubplot:>"
      ]
     },
     "execution_count": 94,
     "metadata": {},
     "output_type": "execute_result"
    },
    {
     "data": {
      "image/png": "[encoded data removed]",
      "text/plain": [
       "<Figure size 1440x576 with 2 Axes>"
      ]
     },
     "metadata": {
      "needs_background": "light"
     },
     "output_type": "display_data"
    }
   ],
   "source": [
    "corrmatrix=data.corr()\n",
    "plt.subplots(figsize=(20,8))\n",
    "sns.heatmap(corrmatrix,vmin=-1,vmax=1,annot=True,linewidths=0.2)"
   ]
  },
  {
   "cell_type": "markdown",
   "id": "e54f0136",
   "metadata": {},
   "source": [
    "##### a. ph and Chloramines"
   ]
  },
  {
   "cell_type": "code",
   "execution_count": 95,
   "id": "c031bbb3",
   "metadata": {},
   "outputs": [
    {
     "data": {
      "text/html": [
       "<div>\n",
       "<style scoped>\n",
       "    .dataframe tbody tr th:only-of-type {\n",
       "        vertical-align: middle;\n",
       "    }\n",
       "\n",
       "    .dataframe tbody tr th {\n",
       "        vertical-align: top;\n",
       "    }\n",
       "\n",
       "    .dataframe thead th {\n",
       "        text-align: right;\n",
       "    }\n",
       "</style>\n",
       "<table border=\"1\" class=\"dataframe\">\n",
       "  <thead>\n",
       "    <tr style=\"text-align: right;\">\n",
       "      <th></th>\n",
       "      <th>ph</th>\n",
       "      <th>Chloramines</th>\n",
       "    </tr>\n",
       "  </thead>\n",
       "  <tbody>\n",
       "    <tr>\n",
       "      <th>ph</th>\n",
       "      <td>1.000000</td>\n",
       "      <td>-0.024768</td>\n",
       "    </tr>\n",
       "    <tr>\n",
       "      <th>Chloramines</th>\n",
       "      <td>-0.024768</td>\n",
       "      <td>1.000000</td>\n",
       "    </tr>\n",
       "  </tbody>\n",
       "</table>\n",
       "</div>"
      ],
      "text/plain": [
       "                   ph  Chloramines\n",
       "ph           1.000000    -0.024768\n",
       "Chloramines -0.024768     1.000000"
      ]
     },
     "execution_count": 95,
     "metadata": {},
     "output_type": "execute_result"
    }
   ],
   "source": [
    "df1=data[['ph','Chloramines']]\n",
    "df1.corr()"
   ]
  },
  {
   "cell_type": "markdown",
   "id": "77f11f7d",
   "metadata": {},
   "source": [
    "Correlation factor of pH and chloramines is -0.0247. i.e.they have a negative low correlation "
   ]
  },
  {
   "cell_type": "markdown",
   "id": "b3cc510f",
   "metadata": {},
   "source": [
    "##### b. ph and Conductivity"
   ]
  },
  {
   "cell_type": "code",
   "execution_count": 96,
   "id": "bb37d3de",
   "metadata": {},
   "outputs": [
    {
     "data": {
      "text/html": [
       "<div>\n",
       "<style scoped>\n",
       "    .dataframe tbody tr th:only-of-type {\n",
       "        vertical-align: middle;\n",
       "    }\n",
       "\n",
       "    .dataframe tbody tr th {\n",
       "        vertical-align: top;\n",
       "    }\n",
       "\n",
       "    .dataframe thead th {\n",
       "        text-align: right;\n",
       "    }\n",
       "</style>\n",
       "<table border=\"1\" class=\"dataframe\">\n",
       "  <thead>\n",
       "    <tr style=\"text-align: right;\">\n",
       "      <th></th>\n",
       "      <th>ph</th>\n",
       "      <th>Conductivity</th>\n",
       "    </tr>\n",
       "  </thead>\n",
       "  <tbody>\n",
       "    <tr>\n",
       "      <th>ph</th>\n",
       "      <td>1.000000</td>\n",
       "      <td>0.014128</td>\n",
       "    </tr>\n",
       "    <tr>\n",
       "      <th>Conductivity</th>\n",
       "      <td>0.014128</td>\n",
       "      <td>1.000000</td>\n",
       "    </tr>\n",
       "  </tbody>\n",
       "</table>\n",
       "</div>"
      ],
      "text/plain": [
       "                    ph  Conductivity\n",
       "ph            1.000000      0.014128\n",
       "Conductivity  0.014128      1.000000"
      ]
     },
     "execution_count": 96,
     "metadata": {},
     "output_type": "execute_result"
    }
   ],
   "source": [
    "df2=data[['ph','Conductivity']]\n",
    "df2.corr()"
   ]
  },
  {
   "cell_type": "markdown",
   "id": "79c77608",
   "metadata": {},
   "source": [
    "Correlation factor of pH and Conductivity is 0.014. i.e.they have a positive low correlation "
   ]
  }
 ],
 "metadata": {
  "kernelspec": {
   "display_name": "Python 3 (ipykernel)",
   "language": "python",
   "name": "python3"
  },
  "language_info": {
   "codemirror_mode": {
    "name": "ipython",
    "version": 3
   },
   "file_extension": ".py",
   "mimetype": "text/x-python",
   "name": "python",
   "nbconvert_exporter": "python",
   "pygments_lexer": "ipython3",
   "version": "3.9.7"
  }
 },
 "nbformat": 4,
 "nbformat_minor": 5
}
